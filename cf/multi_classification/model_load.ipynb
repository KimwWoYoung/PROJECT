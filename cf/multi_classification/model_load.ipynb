{
 "cells": [
  {
   "cell_type": "code",
   "execution_count": 1,
   "metadata": {},
   "outputs": [
    {
     "name": "stdout",
     "output_type": "stream",
     "text": [
      "   X_Minimum  Y_Minimum  Pixels_Areas  Length_of_Conveyer  \\\n",
      "0  -1.016481  -0.777729     -0.314852            1.576303   \n",
      "1   0.141894   0.500188     -0.345623            1.576303   \n",
      "2   0.495362  -0.054546     -0.352784            1.133521   \n",
      "3   0.541467  -0.722225     -0.332463           -0.734467   \n",
      "4   1.379032  -0.649678      0.099692           -0.734467   \n",
      "\n",
      "   Steel_Plate_Thickness  Edges_Index  Empty_Index  Square_Index  \\\n",
      "0               0.022920    -0.940864    -1.258531     -1.435364   \n",
      "1               0.022920     1.445043    -0.254349     -1.342740   \n",
      "2               0.386082     2.133548    -0.521791     -0.876299   \n",
      "3               3.836121     1.324897     0.197460     -1.532047   \n",
      "4               1.929520    -0.875117     0.250657     -1.861950   \n",
      "\n",
      "   Outside_X_Index  Edges_X_Index  ...  LogOfAreas  Log_X_Index  Log_Y_Index  \\\n",
      "0        -0.486227      -0.575331  ...   -0.083538    -0.898437     0.528872   \n",
      "1        -0.504888      -0.043290  ...   -0.581936    -1.157841     0.130174   \n",
      "2        -0.503191       0.573451  ...   -0.812814    -1.157841    -0.325764   \n",
      "3        -0.477744      -0.296153  ...   -0.313021    -1.018897     0.550227   \n",
      "4        -0.352206      -1.345434  ...    1.127655    -0.218461     2.216130   \n",
      "\n",
      "   Orientation_Index  Luminosity_Index  SigmoidOfAreas      type  \\\n",
      "0           1.467656         -1.075752       -0.009490 -1.223956   \n",
      "1           1.417530         -0.297824       -0.845759 -1.223956   \n",
      "2           1.165103          0.057185       -1.091513 -1.223956   \n",
      "3           1.519978         -0.171419       -0.189237  0.817023   \n",
      "4           1.698514         -0.456503        1.221636  0.817023   \n",
      "\n",
      "   Total_Perimeter  Mean_of_Luminosity  targets  \n",
      "0        -0.187982           -0.705828        4  \n",
      "1        -0.217481           -0.177761        4  \n",
      "2        -0.235743            0.212549        4  \n",
      "3        -0.192196            0.235509        4  \n",
      "4         0.175842           -1.187976        4  \n",
      "\n",
      "[5 rows x 22 columns]\n",
      "Classification Report:\n",
      "              precision    recall  f1-score   support\n",
      "\n",
      "           0       0.79      0.87      0.83       124\n",
      "           1       0.99      1.00      1.00       144\n",
      "           2       0.99      0.98      0.99       126\n",
      "           3       0.84      0.68      0.75       134\n",
      "           4       0.93      1.00      0.96       139\n",
      "           5       0.99      1.00      0.99       134\n",
      "           6       0.99      0.99      0.99       142\n",
      "\n",
      "    accuracy                           0.93       943\n",
      "   macro avg       0.93      0.93      0.93       943\n",
      "weighted avg       0.93      0.93      0.93       943\n",
      "\n",
      "RandomForestClassifier: class 조절 정확도 (accuracy) 93.4%\n"
     ]
    }
   ],
   "source": [
    "from load import load_dataset\n",
    "from random_forest_classifier import train_random_forest_classifier\n",
    "\n",
    "def main():\n",
    "    # 데이터셋 불러오기\n",
    "    dataset = load_dataset()\n",
    "    print(dataset.head())\n",
    "\n",
    "    # RandomForestClassifier 모델 훈련\n",
    "    train_random_forest_classifier(dataset)\n",
    "\n",
    "if __name__ == \"__main__\":\n",
    "    main()\n"
   ]
  }
 ],
 "metadata": {
  "kernelspec": {
   "display_name": "{python}",
   "language": "python",
   "name": "python3"
  },
  "language_info": {
   "codemirror_mode": {
    "name": "ipython",
    "version": 3
   },
   "file_extension": ".py",
   "mimetype": "text/x-python",
   "name": "python",
   "nbconvert_exporter": "python",
   "pygments_lexer": "ipython3",
   "version": "3.8.16"
  },
  "orig_nbformat": 4
 },
 "nbformat": 4,
 "nbformat_minor": 2
}
